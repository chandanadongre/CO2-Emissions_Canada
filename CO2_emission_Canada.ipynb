{
  "nbformat": 4,
  "nbformat_minor": 0,
  "metadata": {
    "colab": {
      "provenance": []
    },
    "kernelspec": {
      "name": "python3",
      "display_name": "Python 3"
    },
    "language_info": {
      "name": "python"
    }
  },
  "cells": [
    {
      "cell_type": "markdown",
      "source": [
        "NAME: CHANDANA DONGRE\n",
        "  SRN: PES2UG21CS134\n",
        "  SEC:C\n"
      ],
      "metadata": {
        "id": "yr-ACZKHVfaq"
      }
    },
    {
      "cell_type": "code",
      "execution_count": null,
      "metadata": {
        "id": "Ax3nso-wFzOJ"
      },
      "outputs": [],
      "source": [
        "import pandas as pd\n",
        "import numpy as np\n",
        "import matplotlib.pyplot as mt\n",
        "import seaborn as sns\n",
        "import scipy\n",
        "from scipy import stats\n",
        "from scipy.stats import chi2_contingency\n",
        "from sklearn.linear_model import LinearRegression\n",
        "from sklearn.model_selection import train_test_split\n",
        "from sklearn.metrics import mean_absolute_error\n",
        "from sklearn.metrics import mean_squared_error\n",
        "\n"
      ]
    },
    {
      "cell_type": "markdown",
      "source": [],
      "metadata": {
        "id": "0M2GVCzLVder"
      }
    },
    {
      "cell_type": "markdown",
      "source": [
        "#QUESTION 1\n",
        "#Data description statistics"
      ],
      "metadata": {
        "id": "lC2EOHtQGQgV"
      }
    },
    {
      "cell_type": "markdown",
      "source": [
        "a.What is the structure (shape) of the dataset?"
      ],
      "metadata": {
        "id": "m5-Ev5PsWvDj"
      }
    },
    {
      "cell_type": "code",
      "source": [
        "data=pd.read_csv(\"CO2 Emissions_Canada.csv\")\n",
        "data.info()"
      ],
      "metadata": {
        "colab": {
          "base_uri": "https://localhost:8080/"
        },
        "id": "Vcps3YmsGP_2",
        "outputId": "edccb141-0f08-4969-ede5-45ef1c1f6ba3"
      },
      "execution_count": null,
      "outputs": [
        {
          "output_type": "stream",
          "name": "stdout",
          "text": [
            "<class 'pandas.core.frame.DataFrame'>\n",
            "RangeIndex: 7385 entries, 0 to 7384\n",
            "Data columns (total 12 columns):\n",
            " #   Column                            Non-Null Count  Dtype  \n",
            "---  ------                            --------------  -----  \n",
            " 0   Make                              7385 non-null   object \n",
            " 1   Model                             7385 non-null   object \n",
            " 2   Vehicle Class                     7385 non-null   object \n",
            " 3   Engine Size(L)                    7385 non-null   float64\n",
            " 4   Cylinders                         7385 non-null   int64  \n",
            " 5   Transmission                      7385 non-null   object \n",
            " 6   Fuel Type                         7385 non-null   object \n",
            " 7   Fuel Consumption City (L/100 km)  7385 non-null   float64\n",
            " 8   Fuel Consumption Hwy (L/100 km)   7385 non-null   float64\n",
            " 9   Fuel Consumption Comb (L/100 km)  7385 non-null   float64\n",
            " 10  Fuel Consumption Comb (mpg)       7385 non-null   int64  \n",
            " 11  CO2 Emissions(g/km)               7385 non-null   int64  \n",
            "dtypes: float64(4), int64(3), object(5)\n",
            "memory usage: 692.5+ KB\n"
          ]
        }
      ]
    },
    {
      "cell_type": "code",
      "source": [
        "print(data.shape)\n",
        "print(data.size)"
      ],
      "metadata": {
        "colab": {
          "base_uri": "https://localhost:8080/"
        },
        "id": "SrG5eedfGPp9",
        "outputId": "1924253c-0cf4-4dfb-cdf2-c1c6cf3834de"
      },
      "execution_count": null,
      "outputs": [
        {
          "output_type": "stream",
          "name": "stdout",
          "text": [
            "(7385, 12)\n",
            "88620\n"
          ]
        }
      ]
    },
    {
      "cell_type": "markdown",
      "source": [
        "b.Show the min, max, and mean of CO2 emission, Fuel\n",
        "Consumption?"
      ],
      "metadata": {
        "id": "crsBkhUJW3MX"
      }
    },
    {
      "cell_type": "code",
      "source": [
        "data.max()"
      ],
      "metadata": {
        "colab": {
          "base_uri": "https://localhost:8080/"
        },
        "id": "2xdY5TMyHUpw",
        "outputId": "3092d396-5b8c-41ef-b6d3-f3d93061b11d"
      },
      "execution_count": null,
      "outputs": [
        {
          "output_type": "execute_result",
          "data": {
            "text/plain": [
              "Make                                          VOLVO\n",
              "Model                                            xD\n",
              "Vehicle Class                       VAN - PASSENGER\n",
              "Engine Size(L)                                  8.4\n",
              "Cylinders                                        16\n",
              "Transmission                                     M7\n",
              "Fuel Type                                         Z\n",
              "Fuel Consumption City (L/100 km)               30.6\n",
              "Fuel Consumption Hwy (L/100 km)                20.6\n",
              "Fuel Consumption Comb (L/100 km)               26.1\n",
              "Fuel Consumption Comb (mpg)                      69\n",
              "CO2 Emissions(g/km)                             522\n",
              "dtype: object"
            ]
          },
          "metadata": {},
          "execution_count": 8
        }
      ]
    },
    {
      "cell_type": "code",
      "source": [
        "data.min()"
      ],
      "metadata": {
        "colab": {
          "base_uri": "https://localhost:8080/"
        },
        "id": "pY5Zrwu1HuHw",
        "outputId": "0d7b24ae-f8fb-4e82-d7a5-0fdb18d82ff3"
      },
      "execution_count": null,
      "outputs": [
        {
          "output_type": "execute_result",
          "data": {
            "text/plain": [
              "Make                                     ACURA\n",
              "Model                               124 SPIDER\n",
              "Vehicle Class                          COMPACT\n",
              "Engine Size(L)                             0.9\n",
              "Cylinders                                    3\n",
              "Transmission                               A10\n",
              "Fuel Type                                    D\n",
              "Fuel Consumption City (L/100 km)           4.2\n",
              "Fuel Consumption Hwy (L/100 km)            4.0\n",
              "Fuel Consumption Comb (L/100 km)           4.1\n",
              "Fuel Consumption Comb (mpg)                 11\n",
              "CO2 Emissions(g/km)                         96\n",
              "dtype: object"
            ]
          },
          "metadata": {},
          "execution_count": 9
        }
      ]
    },
    {
      "cell_type": "code",
      "source": [
        "data.mean()"
      ],
      "metadata": {
        "colab": {
          "base_uri": "https://localhost:8080/"
        },
        "id": "W1YakHB7HxyT",
        "outputId": "28aa30c3-180c-4689-a133-80420c0361c7"
      },
      "execution_count": null,
      "outputs": [
        {
          "output_type": "stream",
          "name": "stderr",
          "text": [
            "/usr/local/lib/python3.7/dist-packages/ipykernel_launcher.py:1: FutureWarning: Dropping of nuisance columns in DataFrame reductions (with 'numeric_only=None') is deprecated; in a future version this will raise TypeError.  Select only valid columns before calling the reduction.\n",
            "  \"\"\"Entry point for launching an IPython kernel.\n"
          ]
        },
        {
          "output_type": "execute_result",
          "data": {
            "text/plain": [
              "Engine Size(L)                        3.160068\n",
              "Cylinders                             5.615030\n",
              "Fuel Consumption City (L/100 km)     12.556534\n",
              "Fuel Consumption Hwy (L/100 km)       9.041706\n",
              "Fuel Consumption Comb (L/100 km)     10.975071\n",
              "Fuel Consumption Comb (mpg)          27.481652\n",
              "CO2 Emissions(g/km)                 250.584699\n",
              "dtype: float64"
            ]
          },
          "metadata": {},
          "execution_count": 10
        }
      ]
    },
    {
      "cell_type": "markdown",
      "source": [
        "c.Comment briefly about the distribution of columns – Model, Fuel Consumption and CO2 emissions."
      ],
      "metadata": {
        "id": "d5ox5rtoW7zt"
      }
    },
    {
      "cell_type": "code",
      "source": [
        "sns.displot(data=data['Engine Size(L)'],x=data['Cylinders'])"
      ],
      "metadata": {
        "colab": {
          "base_uri": "https://localhost:8080/",
          "height": 382
        },
        "id": "IsiBj4RIITMv",
        "outputId": "6232fe66-1fd9-48f4-af78-256b457139aa"
      },
      "execution_count": null,
      "outputs": [
        {
          "output_type": "execute_result",
          "data": {
            "text/plain": [
              "<seaborn.axisgrid.FacetGrid at 0x7f50b1ca7810>"
            ]
          },
          "metadata": {},
          "execution_count": 37
        },
        {
          "output_type": "display_data",
          "data": {
            "text/plain": [
              "<Figure size 360x360 with 1 Axes>"
            ],
            "image/png": "[encoded data removed]"
          },
          "metadata": {}
        }
      ]
    },
    {
      "cell_type": "code",
      "source": [
        "sns.displot(data=data['Fuel Consumption City (L/100 km)'],x=data['CO2 Emissions(g/km)'])"
      ],
      "metadata": {
        "colab": {
          "base_uri": "https://localhost:8080/",
          "height": 382
        },
        "id": "5SODJNSJXCYF",
        "outputId": "c1ee4f83-57d9-464c-8829-c8f1979fa319"
      },
      "execution_count": 66,
      "outputs": [
        {
          "output_type": "execute_result",
          "data": {
            "text/plain": [
              "<seaborn.axisgrid.FacetGrid at 0x7f50b1aab290>"
            ]
          },
          "metadata": {},
          "execution_count": 66
        },
        {
          "output_type": "display_data",
          "data": {
            "text/plain": [
              "<Figure size 360x360 with 1 Axes>"
            ],
            "image/png": "[encoded data removed]"
          },
          "metadata": {}
        }
      ]
    },
    {
      "cell_type": "code",
      "source": [
        "sns.displot(data=data['Model'],x=data['CO2 Emissions(g/km)'])"
      ],
      "metadata": {
        "colab": {
          "base_uri": "https://localhost:8080/",
          "height": 382
        },
        "id": "4QHtQIucXY-d",
        "outputId": "3512da9f-6a8e-4418-f4a3-73c9f71c41b6"
      },
      "execution_count": 65,
      "outputs": [
        {
          "output_type": "execute_result",
          "data": {
            "text/plain": [
              "<seaborn.axisgrid.FacetGrid at 0x7f50ac6f30d0>"
            ]
          },
          "metadata": {},
          "execution_count": 65
        },
        {
          "output_type": "display_data",
          "data": {
            "text/plain": [
              "<Figure size 360x360 with 1 Axes>"
            ],
            "image/png": "[encoded data removed]"
          },
          "metadata": {}
        }
      ]
    },
    {
      "cell_type": "code",
      "source": [
        "sns.displot(data=data['Fuel Consumption Comb (L/100 km)'],x=data['CO2 Emissions(g/km)'])"
      ],
      "metadata": {
        "colab": {
          "base_uri": "https://localhost:8080/",
          "height": 382
        },
        "id": "JeQZlJD_XivM",
        "outputId": "ebae19bb-53b0-43d4-d0f0-35ac5a4e39e6"
      },
      "execution_count": 64,
      "outputs": [
        {
          "output_type": "execute_result",
          "data": {
            "text/plain": [
              "<seaborn.axisgrid.FacetGrid at 0x7f50b1b4ddd0>"
            ]
          },
          "metadata": {},
          "execution_count": 64
        },
        {
          "output_type": "display_data",
          "data": {
            "text/plain": [
              "<Figure size 360x360 with 1 Axes>"
            ],
            "image/png": "[encoded data removed]"
          },
          "metadata": {}
        }
      ]
    },
    {
      "cell_type": "code",
      "source": [
        "sns.displot(data=data['Fuel Consumption Comb (mpg)'],x=data['CO2 Emissions(g/km)'])"
      ],
      "metadata": {
        "colab": {
          "base_uri": "https://localhost:8080/",
          "height": 382
        },
        "id": "Bvk42DBfXtlV",
        "outputId": "0fbf3bbc-8b90-4915-9d59-df6201bdf565"
      },
      "execution_count": 63,
      "outputs": [
        {
          "output_type": "execute_result",
          "data": {
            "text/plain": [
              "<seaborn.axisgrid.FacetGrid at 0x7f50b1bc4490>"
            ]
          },
          "metadata": {},
          "execution_count": 63
        },
        {
          "output_type": "display_data",
          "data": {
            "text/plain": [
              "<Figure size 360x360 with 1 Axes>"
            ],
            "image/png": "[encoded data removed]"
          },
          "metadata": {}
        }
      ]
    },
    {
      "cell_type": "markdown",
      "source": [
        "#Question 2\n",
        "#data preprocessing\n",
        "a. Encode the categorical columns: Make, Model, Vehicle Class,Transmission, Fuel Type."
      ],
      "metadata": {
        "id": "dcZs_HKaIXTq"
      }
    },
    {
      "cell_type": "code",
      "source": [
        "\n",
        "print(data['Model'].unique())\n",
        "print(data['Make'].unique())\n",
        "\n",
        "print(data['Vehicle Class'].unique())\n",
        "print(data['Transmission'].unique())\n",
        "print(data['Fuel Type'].unique())"
      ],
      "metadata": {
        "colab": {
          "base_uri": "https://localhost:8080/"
        },
        "id": "w_msUg6FIZKx",
        "outputId": "8b463386-6c50-407b-d44c-8e710596d6b9"
      },
      "execution_count": null,
      "outputs": [
        {
          "output_type": "stream",
          "name": "stdout",
          "text": [
            "['ILX' 'ILX HYBRID' 'MDX 4WD' ... 'Tacoma 4WD D-Cab TRD Off-Road/Pro'\n",
            " 'Atlas Cross Sport 4MOTION' 'XC40 T4 AWD']\n",
            "['ACURA' 'ALFA ROMEO' 'ASTON MARTIN' 'AUDI' 'BENTLEY' 'BMW' 'BUICK'\n",
            " 'CADILLAC' 'CHEVROLET' 'CHRYSLER' 'DODGE' 'FIAT' 'FORD' 'GMC' 'HONDA'\n",
            " 'HYUNDAI' 'INFINITI' 'JAGUAR' 'JEEP' 'KIA' 'LAMBORGHINI' 'LAND ROVER'\n",
            " 'LEXUS' 'LINCOLN' 'MASERATI' 'MAZDA' 'MERCEDES-BENZ' 'MINI' 'MITSUBISHI'\n",
            " 'NISSAN' 'PORSCHE' 'RAM' 'ROLLS-ROYCE' 'SCION' 'SMART' 'SRT' 'SUBARU'\n",
            " 'TOYOTA' 'VOLKSWAGEN' 'VOLVO' 'GENESIS' 'BUGATTI']\n",
            "['COMPACT' 'SUV - SMALL' 'MID-SIZE' 'TWO-SEATER' 'MINICOMPACT'\n",
            " 'SUBCOMPACT' 'FULL-SIZE' 'STATION WAGON - SMALL' 'SUV - STANDARD'\n",
            " 'VAN - CARGO' 'VAN - PASSENGER' 'PICKUP TRUCK - STANDARD' 'MINIVAN'\n",
            " 'SPECIAL PURPOSE VEHICLE' 'STATION WAGON - MID-SIZE'\n",
            " 'PICKUP TRUCK - SMALL']\n",
            "['AS5' 'M6' 'AV7' 'AS6' 'AM6' 'A6' 'AM7' 'AV8' 'AS8' 'A7' 'A8' 'M7' 'A4'\n",
            " 'M5' 'AV' 'A5' 'AS7' 'A9' 'AS9' 'AV6' 'AS4' 'AM5' 'AM8' 'AM9' 'AS10'\n",
            " 'A10' 'AV10']\n",
            "['Z' 'D' 'X' 'E' 'N']\n"
          ]
        }
      ]
    },
    {
      "cell_type": "code",
      "source": [
        "one_hot_encoded_data = pd.get_dummies(data, columns = ['Model', 'Make','Vehicle Class','Transmission','Fuel Type'])\n",
        "print(one_hot_encoded_data)"
      ],
      "metadata": {
        "colab": {
          "base_uri": "https://localhost:8080/"
        },
        "id": "lEa1EQh2IzwW",
        "outputId": "ba05ac98-8192-468c-bf0a-e65c75bcdc10"
      },
      "execution_count": null,
      "outputs": [
        {
          "output_type": "stream",
          "name": "stdout",
          "text": [
            "      Engine Size(L)  Cylinders  Fuel Consumption City (L/100 km)  \\\n",
            "0                2.0          4                               9.9   \n",
            "1                2.4          4                              11.2   \n",
            "2                1.5          4                               6.0   \n",
            "3                3.5          6                              12.7   \n",
            "4                3.5          6                              12.1   \n",
            "...              ...        ...                               ...   \n",
            "7380             2.0          4                              10.7   \n",
            "7381             2.0          4                              11.2   \n",
            "7382             2.0          4                              11.7   \n",
            "7383             2.0          4                              11.2   \n",
            "7384             2.0          4                              12.2   \n",
            "\n",
            "      Fuel Consumption Hwy (L/100 km)  Fuel Consumption Comb (L/100 km)  \\\n",
            "0                                 6.7                               8.5   \n",
            "1                                 7.7                               9.6   \n",
            "2                                 5.8                               5.9   \n",
            "3                                 9.1                              11.1   \n",
            "4                                 8.7                              10.6   \n",
            "...                               ...                               ...   \n",
            "7380                              7.7                               9.4   \n",
            "7381                              8.3                               9.9   \n",
            "7382                              8.6                              10.3   \n",
            "7383                              8.3                               9.9   \n",
            "7384                              8.7                              10.7   \n",
            "\n",
            "      Fuel Consumption Comb (mpg)  CO2 Emissions(g/km)  Model_124 SPIDER  \\\n",
            "0                              33                  196                 0   \n",
            "1                              29                  221                 0   \n",
            "2                              48                  136                 0   \n",
            "3                              25                  255                 0   \n",
            "4                              27                  244                 0   \n",
            "...                           ...                  ...               ...   \n",
            "7380                           30                  219                 0   \n",
            "7381                           29                  232                 0   \n",
            "7382                           27                  240                 0   \n",
            "7383                           29                  232                 0   \n",
            "7384                           26                  248                 0   \n",
            "\n",
            "      Model_124 Spider  Model_1500  ...  Transmission_AV7  Transmission_AV8  \\\n",
            "0                    0           0  ...                 0                 0   \n",
            "1                    0           0  ...                 0                 0   \n",
            "2                    0           0  ...                 1                 0   \n",
            "3                    0           0  ...                 0                 0   \n",
            "4                    0           0  ...                 0                 0   \n",
            "...                ...         ...  ...               ...               ...   \n",
            "7380                 0           0  ...                 0                 0   \n",
            "7381                 0           0  ...                 0                 0   \n",
            "7382                 0           0  ...                 0                 0   \n",
            "7383                 0           0  ...                 0                 0   \n",
            "7384                 0           0  ...                 0                 0   \n",
            "\n",
            "      Transmission_M5  Transmission_M6  Transmission_M7  Fuel Type_D  \\\n",
            "0                   0                0                0            0   \n",
            "1                   0                1                0            0   \n",
            "2                   0                0                0            0   \n",
            "3                   0                0                0            0   \n",
            "4                   0                0                0            0   \n",
            "...               ...              ...              ...          ...   \n",
            "7380                0                0                0            0   \n",
            "7381                0                0                0            0   \n",
            "7382                0                0                0            0   \n",
            "7383                0                0                0            0   \n",
            "7384                0                0                0            0   \n",
            "\n",
            "      Fuel Type_E  Fuel Type_N  Fuel Type_X  Fuel Type_Z  \n",
            "0               0            0            0            1  \n",
            "1               0            0            0            1  \n",
            "2               0            0            0            1  \n",
            "3               0            0            0            1  \n",
            "4               0            0            0            1  \n",
            "...           ...          ...          ...          ...  \n",
            "7380            0            0            0            1  \n",
            "7381            0            0            0            1  \n",
            "7382            0            0            0            1  \n",
            "7383            0            0            0            1  \n",
            "7384            0            0            0            1  \n",
            "\n",
            "[7385 rows x 2150 columns]\n"
          ]
        }
      ]
    },
    {
      "cell_type": "markdown",
      "source": [
        "#QUESTION 3\n",
        "#Data visualization\n",
        "a.Make Histogram, and whisker plots to understand the meaning of the encoding."
      ],
      "metadata": {
        "id": "CQj3NCofJiHD"
      }
    },
    {
      "cell_type": "code",
      "source": [
        "data.hist(figsize=(10,10))\n"
      ],
      "metadata": {
        "colab": {
          "base_uri": "https://localhost:8080/",
          "height": 781
        },
        "id": "go_HztdzJgT1",
        "outputId": "e36c4417-81d1-41a6-905d-4f5339e61d23"
      },
      "execution_count": null,
      "outputs": [
        {
          "output_type": "execute_result",
          "data": {
            "text/plain": [
              "array([[<matplotlib.axes._subplots.AxesSubplot object at 0x7f50b2546450>,\n",
              "        <matplotlib.axes._subplots.AxesSubplot object at 0x7f50b24ef4d0>,\n",
              "        <matplotlib.axes._subplots.AxesSubplot object at 0x7f50b24a5ad0>],\n",
              "       [<matplotlib.axes._subplots.AxesSubplot object at 0x7f50b2469110>,\n",
              "        <matplotlib.axes._subplots.AxesSubplot object at 0x7f50b241f710>,\n",
              "        <matplotlib.axes._subplots.AxesSubplot object at 0x7f50b23d5d10>],\n",
              "       [<matplotlib.axes._subplots.AxesSubplot object at 0x7f50b2398350>,\n",
              "        <matplotlib.axes._subplots.AxesSubplot object at 0x7f50b235a0d0>,\n",
              "        <matplotlib.axes._subplots.AxesSubplot object at 0x7f50b235ae10>]],\n",
              "      dtype=object)"
            ]
          },
          "metadata": {},
          "execution_count": 22
        },
        {
          "output_type": "display_data",
          "data": {
            "text/plain": [
              "<Figure size 720x720 with 9 Axes>"
            ],
            "image/png": "[encoded data removed]"
          },
          "metadata": {
            "needs_background": "light"
          }
        }
      ]
    },
    {
      "cell_type": "code",
      "source": [
        "sns.boxplot(data[\"Engine Size(L)\"])\n"
      ],
      "metadata": {
        "colab": {
          "base_uri": "https://localhost:8080/",
          "height": 302
        },
        "id": "0PzCy82LMtYt",
        "outputId": "4d18f0ea-4cbb-4afc-812e-7983f71644f5"
      },
      "execution_count": null,
      "outputs": [
        {
          "output_type": "stream",
          "name": "stderr",
          "text": [
            "/usr/local/lib/python3.7/dist-packages/seaborn/_decorators.py:43: FutureWarning: Pass the following variable as a keyword arg: x. From version 0.12, the only valid positional argument will be `data`, and passing other arguments without an explicit keyword will result in an error or misinterpretation.\n",
            "  FutureWarning\n"
          ]
        },
        {
          "output_type": "execute_result",
          "data": {
            "text/plain": [
              "<matplotlib.axes._subplots.AxesSubplot at 0x7f50b25f0f90>"
            ]
          },
          "metadata": {},
          "execution_count": 36
        },
        {
          "output_type": "display_data",
          "data": {
            "text/plain": [
              "<Figure size 360x216 with 1 Axes>"
            ],
            "image/png": "[encoded data removed]"
          },
          "metadata": {}
        }
      ]
    },
    {
      "cell_type": "markdown",
      "source": [
        "#Question 4\n",
        "#Hypothesis testing\n",
        "a.Perform Z-statistics test on various columns? And do Hypothesis Test"
      ],
      "metadata": {
        "id": "VYDvhXcQPNCb"
      }
    },
    {
      "cell_type": "code",
      "source": [
        "data[\"CO2 Emissions(g/km)\"].describe()"
      ],
      "metadata": {
        "colab": {
          "base_uri": "https://localhost:8080/"
        },
        "id": "05gwWJapPOwg",
        "outputId": "b860150a-4d3b-451b-f27f-d64cdf86d2fd"
      },
      "execution_count": null,
      "outputs": [
        {
          "output_type": "execute_result",
          "data": {
            "text/plain": [
              "count    7385.000000\n",
              "mean      250.584699\n",
              "std        58.512679\n",
              "min        96.000000\n",
              "25%       208.000000\n",
              "50%       246.000000\n",
              "75%       288.000000\n",
              "max       522.000000\n",
              "Name: CO2 Emissions(g/km), dtype: float64"
            ]
          },
          "metadata": {},
          "execution_count": 39
        }
      ]
    },
    {
      "cell_type": "markdown",
      "source": [
        "b.Is there any multi-collinearity between the columns?"
      ],
      "metadata": {
        "id": "LR5kX9KSYLQZ"
      }
    },
    {
      "cell_type": "code",
      "source": [
        "from statsmodels.stats.outliers_influence import variance_inflation_factor\n",
        "\n",
        "list_of_num = ['int64','float64']\n",
        "numeric_df = data.select_dtypes(list_of_num)\n",
        "numeric_df.head()\n",
        "\n",
        "vif_data = pd.DataFrame()\n",
        "vif_data[\"feature\"] = numeric_df.columns\n",
        "\n",
        "vif_data[\"VIF\"] = [variance_inflation_factor(numeric_df.values, i)\n",
        "                          for i in range(len(numeric_df.columns))]\n",
        "\n",
        "(vif_data.sort_values(\"VIF\"))"
      ],
      "metadata": {
        "colab": {
          "base_uri": "https://localhost:8080/",
          "height": 269
        },
        "id": "M1SOkfaIVKAS",
        "outputId": "7e993b73-43b5-46b5-c830-aa56ad21ef81"
      },
      "execution_count": null,
      "outputs": [
        {
          "output_type": "execute_result",
          "data": {
            "text/plain": [
              "                            feature           VIF\n",
              "5       Fuel Consumption Comb (mpg)      7.900289\n",
              "0                    Engine Size(L)     54.672007\n",
              "1                         Cylinders     84.597442\n",
              "6               CO2 Emissions(g/km)    143.886238\n",
              "3   Fuel Consumption Hwy (L/100 km)   9928.415863\n",
              "2  Fuel Consumption City (L/100 km)  28573.424593\n",
              "4  Fuel Consumption Comb (L/100 km)  71279.914481"
            ],
            "text/html": [
              "\n",
              "  <div id=\"df-b3e41d00-9891-4bcb-a57b-fb865f01f980\">\n",
              "    <div class=\"colab-df-container\">\n",
              "      <div>\n",
              "<style scoped>\n",
              "    .dataframe tbody tr th:only-of-type {\n",
              "        vertical-align: middle;\n",
              "    }\n",
              "\n",
              "    .dataframe tbody tr th {\n",
              "        vertical-align: top;\n",
              "    }\n",
              "\n",
              "    .dataframe thead th {\n",
              "        text-align: right;\n",
              "    }\n",
              "</style>\n",
              "<table border=\"1\" class=\"dataframe\">\n",
              "  <thead>\n",
              "    <tr style=\"text-align: right;\">\n",
              "      <th></th>\n",
              "      <th>feature</th>\n",
              "      <th>VIF</th>\n",
              "    </tr>\n",
              "  </thead>\n",
              "  <tbody>\n",
              "    <tr>\n",
              "      <th>5</th>\n",
              "      <td>Fuel Consumption Comb (mpg)</td>\n",
              "      <td>7.900289</td>\n",
              "    </tr>\n",
              "    <tr>\n",
              "      <th>0</th>\n",
              "      <td>Engine Size(L)</td>\n",
              "      <td>54.672007</td>\n",
              "    </tr>\n",
              "    <tr>\n",
              "      <th>1</th>\n",
              "      <td>Cylinders</td>\n",
              "      <td>84.597442</td>\n",
              "    </tr>\n",
              "    <tr>\n",
              "      <th>6</th>\n",
              "      <td>CO2 Emissions(g/km)</td>\n",
              "      <td>143.886238</td>\n",
              "    </tr>\n",
              "    <tr>\n",
              "      <th>3</th>\n",
              "      <td>Fuel Consumption Hwy (L/100 km)</td>\n",
              "      <td>9928.415863</td>\n",
              "    </tr>\n",
              "    <tr>\n",
              "      <th>2</th>\n",
              "      <td>Fuel Consumption City (L/100 km)</td>\n",
              "      <td>28573.424593</td>\n",
              "    </tr>\n",
              "    <tr>\n",
              "      <th>4</th>\n",
              "      <td>Fuel Consumption Comb (L/100 km)</td>\n",
              "      <td>71279.914481</td>\n",
              "    </tr>\n",
              "  </tbody>\n",
              "</table>\n",
              "</div>\n",
              "      <button class=\"colab-df-convert\" onclick=\"convertToInteractive('df-b3e41d00-9891-4bcb-a57b-fb865f01f980')\"\n",
              "              title=\"Convert this dataframe to an interactive table.\"\n",
              "              style=\"display:none;\">\n",
              "        \n",
              "  <svg xmlns=\"http://www.w3.org/2000/svg\" height=\"24px\"viewBox=\"0 0 24 24\"\n",
              "       width=\"24px\">\n",
              "    <path d=\"M0 0h24v24H0V0z\" fill=\"none\"/>\n",
              "    <path d=\"M18.56 5.44l.94 2.06.94-2.06 2.06-.94-2.06-.94-.94-2.06-.94 2.06-2.06.94zm-11 1L8.5 8.5l.94-2.06 2.06-.94-2.06-.94L8.5 2.5l-.94 2.06-2.06.94zm10 10l.94 2.06.94-2.06 2.06-.94-2.06-.94-.94-2.06-.94 2.06-2.06.94z\"/><path d=\"M17.41 7.96l-1.37-1.37c-.4-.4-.92-.59-1.43-.59-.52 0-1.04.2-1.43.59L10.3 9.45l-7.72 7.72c-.78.78-.78 2.05 0 2.83L4 21.41c.39.39.9.59 1.41.59.51 0 1.02-.2 1.41-.59l7.78-7.78 2.81-2.81c.8-.78.8-2.07 0-2.86zM5.41 20L4 18.59l7.72-7.72 1.47 1.35L5.41 20z\"/>\n",
              "  </svg>\n",
              "      </button>\n",
              "      \n",
              "  <style>\n",
              "    .colab-df-container {\n",
              "      display:flex;\n",
              "      flex-wrap:wrap;\n",
              "      gap: 12px;\n",
              "    }\n",
              "\n",
              "    .colab-df-convert {\n",
              "      background-color: #E8F0FE;\n",
              "      border: none;\n",
              "      border-radius: 50%;\n",
              "      cursor: pointer;\n",
              "      display: none;\n",
              "      fill: #1967D2;\n",
              "      height: 32px;\n",
              "      padding: 0 0 0 0;\n",
              "      width: 32px;\n",
              "    }\n",
              "\n",
              "    .colab-df-convert:hover {\n",
              "      background-color: #E2EBFA;\n",
              "      box-shadow: 0px 1px 2px rgba(60, 64, 67, 0.3), 0px 1px 3px 1px rgba(60, 64, 67, 0.15);\n",
              "      fill: #174EA6;\n",
              "    }\n",
              "\n",
              "    [theme=dark] .colab-df-convert {\n",
              "      background-color: #3B4455;\n",
              "      fill: #D2E3FC;\n",
              "    }\n",
              "\n",
              "    [theme=dark] .colab-df-convert:hover {\n",
              "      background-color: #434B5C;\n",
              "      box-shadow: 0px 1px 3px 1px rgba(0, 0, 0, 0.15);\n",
              "      filter: drop-shadow(0px 1px 2px rgba(0, 0, 0, 0.3));\n",
              "      fill: #FFFFFF;\n",
              "    }\n",
              "  </style>\n",
              "\n",
              "      <script>\n",
              "        const buttonEl =\n",
              "          document.querySelector('#df-b3e41d00-9891-4bcb-a57b-fb865f01f980 button.colab-df-convert');\n",
              "        buttonEl.style.display =\n",
              "          google.colab.kernel.accessAllowed ? 'block' : 'none';\n",
              "\n",
              "        async function convertToInteractive(key) {\n",
              "          const element = document.querySelector('#df-b3e41d00-9891-4bcb-a57b-fb865f01f980');\n",
              "          const dataTable =\n",
              "            await google.colab.kernel.invokeFunction('convertToInteractive',\n",
              "                                                     [key], {});\n",
              "          if (!dataTable) return;\n",
              "\n",
              "          const docLinkHtml = 'Like what you see? Visit the ' +\n",
              "            '<a target=\"_blank\" href=https://colab.research.google.com/notebooks/data_table.ipynb>data table notebook</a>'\n",
              "            + ' to learn more about interactive tables.';\n",
              "          element.innerHTML = '';\n",
              "          dataTable['output_type'] = 'display_data';\n",
              "          await google.colab.output.renderOutput(dataTable, element);\n",
              "          const docLink = document.createElement('div');\n",
              "          docLink.innerHTML = docLinkHtml;\n",
              "          element.appendChild(docLink);\n",
              "        }\n",
              "      </script>\n",
              "    </div>\n",
              "  </div>\n",
              "  "
            ]
          },
          "metadata": {},
          "execution_count": 54
        }
      ]
    },
    {
      "cell_type": "code",
      "source": [
        "zvalue= (251 - data[\"CO2 Emissions(g/km)\"].mean()) / (data[\"CO2 Emissions(g/km)\"].std() )\n",
        "zprob=scipy.stats.norm.cdf(zvalue)\n",
        "print(\"The probability of the null hypothesis is \",zprob)\n",
        "print(\"This value is greater then the alpha value that we have. Therefore, the null hypothesis cannot be rejected\")\n"
      ],
      "metadata": {
        "colab": {
          "base_uri": "https://localhost:8080/"
        },
        "id": "3M4xCj49PWxA",
        "outputId": "305bf27f-c24f-454c-a610-cd2f5dc16259"
      },
      "execution_count": null,
      "outputs": [
        {
          "output_type": "stream",
          "name": "stdout",
          "text": [
            "The probability of the null hypothesis is  0.5028315204995373\n",
            "This value is greater then the alpha value that we have. Therefore, the null hypothesis cannot be rejected\n"
          ]
        }
      ]
    },
    {
      "cell_type": "markdown",
      "source": [
        "c. Perform correlation Analysis."
      ],
      "metadata": {
        "id": "FeJSLxAZYQdi"
      }
    },
    {
      "cell_type": "code",
      "source": [
        "matrix = data.corr()\n",
        "print(\"Correlation matrix is : \")\n",
        "print(matrix)\n",
        "dataplot = sns.heatmap(data.corr(), cmap=\"YlGnBu\", annot=True)"
      ],
      "metadata": {
        "colab": {
          "base_uri": "https://localhost:8080/",
          "height": 1000
        },
        "id": "PwPPAJuBP-rX",
        "outputId": "82331082-f0ae-4469-edb4-170305adfefe"
      },
      "execution_count": null,
      "outputs": [
        {
          "output_type": "stream",
          "name": "stdout",
          "text": [
            "Correlation matrix is : \n",
            "                                  Engine Size(L)  Cylinders  \\\n",
            "Engine Size(L)                          1.000000   0.927653   \n",
            "Cylinders                               0.927653   1.000000   \n",
            "Fuel Consumption City (L/100 km)        0.831379   0.800702   \n",
            "Fuel Consumption Hwy (L/100 km)         0.761526   0.715252   \n",
            "Fuel Consumption Comb (L/100 km)        0.817060   0.780534   \n",
            "Fuel Consumption Comb (mpg)            -0.757854  -0.719321   \n",
            "CO2 Emissions(g/km)                     0.851145   0.832644   \n",
            "\n",
            "                                  Fuel Consumption City (L/100 km)  \\\n",
            "Engine Size(L)                                            0.831379   \n",
            "Cylinders                                                 0.800702   \n",
            "Fuel Consumption City (L/100 km)                          1.000000   \n",
            "Fuel Consumption Hwy (L/100 km)                           0.948180   \n",
            "Fuel Consumption Comb (L/100 km)                          0.993810   \n",
            "Fuel Consumption Comb (mpg)                              -0.927059   \n",
            "CO2 Emissions(g/km)                                       0.919592   \n",
            "\n",
            "                                  Fuel Consumption Hwy (L/100 km)  \\\n",
            "Engine Size(L)                                           0.761526   \n",
            "Cylinders                                                0.715252   \n",
            "Fuel Consumption City (L/100 km)                         0.948180   \n",
            "Fuel Consumption Hwy (L/100 km)                          1.000000   \n",
            "Fuel Consumption Comb (L/100 km)                         0.977299   \n",
            "Fuel Consumption Comb (mpg)                             -0.890638   \n",
            "CO2 Emissions(g/km)                                      0.883536   \n",
            "\n",
            "                                  Fuel Consumption Comb (L/100 km)  \\\n",
            "Engine Size(L)                                            0.817060   \n",
            "Cylinders                                                 0.780534   \n",
            "Fuel Consumption City (L/100 km)                          0.993810   \n",
            "Fuel Consumption Hwy (L/100 km)                           0.977299   \n",
            "Fuel Consumption Comb (L/100 km)                          1.000000   \n",
            "Fuel Consumption Comb (mpg)                              -0.925576   \n",
            "CO2 Emissions(g/km)                                       0.918052   \n",
            "\n",
            "                                  Fuel Consumption Comb (mpg)  \\\n",
            "Engine Size(L)                                      -0.757854   \n",
            "Cylinders                                           -0.719321   \n",
            "Fuel Consumption City (L/100 km)                    -0.927059   \n",
            "Fuel Consumption Hwy (L/100 km)                     -0.890638   \n",
            "Fuel Consumption Comb (L/100 km)                    -0.925576   \n",
            "Fuel Consumption Comb (mpg)                          1.000000   \n",
            "CO2 Emissions(g/km)                                 -0.907426   \n",
            "\n",
            "                                  CO2 Emissions(g/km)  \n",
            "Engine Size(L)                               0.851145  \n",
            "Cylinders                                    0.832644  \n",
            "Fuel Consumption City (L/100 km)             0.919592  \n",
            "Fuel Consumption Hwy (L/100 km)              0.883536  \n",
            "Fuel Consumption Comb (L/100 km)             0.918052  \n",
            "Fuel Consumption Comb (mpg)                 -0.907426  \n",
            "CO2 Emissions(g/km)                          1.000000  \n"
          ]
        },
        {
          "output_type": "display_data",
          "data": {
            "text/plain": [
              "<Figure size 360x216 with 2 Axes>"
            ],
            "image/png": "[encoded data removed]"
          },
          "metadata": {}
        }
      ]
    },
    {
      "cell_type": "markdown",
      "source": [
        "#QUESTION 5\n",
        "#Modelling\n",
        "a. Build a Linear Regression Model"
      ],
      "metadata": {
        "id": "oMHACnWPQksl"
      }
    },
    {
      "cell_type": "code",
      "source": [
        "X, y = data[\"CO2 Emissions(g/km)\"], data[\"Engine Size(L)\"]\n",
        "print(\"Initial shape\",X.shape, y.shape)\n",
        "X_train, X_test, y_train, y_test = train_test_split(X, y, test_size=0.2, random_state=1)\n",
        "print(\"Training Data: \",X_train.shape, y_train.shape)\n",
        "print(\"Testing Data: \",X_test.shape, y_test.shape)\n"
      ],
      "metadata": {
        "colab": {
          "base_uri": "https://localhost:8080/"
        },
        "id": "uO3Fl5W0Sae3",
        "outputId": "8a987a59-8fd1-4df2-fb7f-4447bb3bf88f"
      },
      "execution_count": null,
      "outputs": [
        {
          "output_type": "stream",
          "name": "stdout",
          "text": [
            "Initial shape (7385,) (7385,)\n",
            "Training Data:  (5908,) (5908,)\n",
            "Testing Data:  (1477,) (1477,)\n"
          ]
        }
      ]
    },
    {
      "cell_type": "markdown",
      "source": [
        "b.Give the coefficients of the model"
      ],
      "metadata": {
        "id": "GDtxsV-7YYG2"
      }
    },
    {
      "cell_type": "code",
      "source": [
        "model = LinearRegression()\n",
        "model.fit(np.array(X_train).reshape((-1, 1)), y_train)\n"
      ],
      "metadata": {
        "colab": {
          "base_uri": "https://localhost:8080/"
        },
        "id": "i5oiFqZDUjHG",
        "outputId": "63f0659d-ced7-49cc-c8dc-444354915758"
      },
      "execution_count": null,
      "outputs": [
        {
          "output_type": "execute_result",
          "data": {
            "text/plain": [
              "LinearRegression()"
            ]
          },
          "metadata": {},
          "execution_count": 50
        }
      ]
    },
    {
      "cell_type": "code",
      "source": [
        "r_sq = model.score(np.array(X_train).reshape((-1, 1)), y_train)\n",
        "print(f\"coefficient of determination: {r_sq}\")\n",
        "print(f\"intercept: {model.intercept_}\")\n",
        "print(f\"slope: {model.coef_}\")"
      ],
      "metadata": {
        "colab": {
          "base_uri": "https://localhost:8080/"
        },
        "id": "ClKHyZLWUmcA",
        "outputId": "0cea4ee1-e8d6-4eb2-82cc-f9a63e4e6e63"
      },
      "execution_count": null,
      "outputs": [
        {
          "output_type": "stream",
          "name": "stdout",
          "text": [
            "coefficient of determination: 0.7294404932957087\n",
            "intercept: -1.7711202556099863\n",
            "slope: [0.0196705]\n"
          ]
        }
      ]
    },
    {
      "cell_type": "markdown",
      "source": [
        "c. Comparing predictions and accuracy."
      ],
      "metadata": {
        "id": "fi4ImEvVYcK5"
      }
    },
    {
      "cell_type": "code",
      "source": [
        "yhat = model.predict(np.array(X_test).reshape((-1, 1)))\n",
        "mae = mean_absolute_error(y_test, yhat)\n",
        "print('MAE: %.3f' % mae)\n",
        "mse = mean_squared_error(y_test, yhat)\n",
        "print('MSE: %.3f' % mse)"
      ],
      "metadata": {
        "colab": {
          "base_uri": "https://localhost:8080/"
        },
        "id": "oCufdgiyU42E",
        "outputId": "d88991d3-2988-42b2-aee5-428fd661cab1"
      },
      "execution_count": null,
      "outputs": [
        {
          "output_type": "stream",
          "name": "stdout",
          "text": [
            "MAE: 0.581\n",
            "MSE: 0.558\n"
          ]
        }
      ]
    }
  ]
}